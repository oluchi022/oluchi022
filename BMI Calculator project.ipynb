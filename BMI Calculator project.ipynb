{
 "cells": [
  {
   "cell_type": "markdown",
   "id": "66525e59",
   "metadata": {},
   "source": [
    "# #BMI Calculator\n",
    "https://mercer-health.com/services/weight-management-center/bmi-calculator#:~:text=Body%20Mass%20Index%2C%20or%20BMI,inches%20x%20height%20in%20inches"
   ]
  },
  {
   "cell_type": "code",
   "execution_count": 13,
   "id": "8c5b3930",
   "metadata": {},
   "outputs": [
    {
     "name": "stdout",
     "output_type": "stream",
     "text": [
      "Enter your name: Cynthia\n",
      "Enter your weight in pounds: 173\n",
      "Enter your height in inches: 63\n",
      "30.64222726127488\n",
      "Cynthia, you are obese.\n"
     ]
    }
   ],
   "source": [
    "Name = input(\"Enter your name: \")\n",
    "\n",
    "weight = int(input(\"Enter your weight in pounds: \"))\n",
    "\n",
    "height = int(input(\"Enter your height in inches: \"))\n",
    "\n",
    "BMI = (weight * 703) / (height * height)\n",
    "\n",
    "print (BMI)\n",
    "\n",
    "if BMI > 0:\n",
    "    if BMI < 18.5:\n",
    "        print(f\"{Name}, you are underweight.\")\n",
    "    elif BMI <= 24.9:\n",
    "        print(f\"{Name}, you are normal weight.\")\n",
    "    elif BMI <= 29.9:\n",
    "        print(f\"{Name}, you are over weight.\")\n",
    "    elif BMI <= 34.9:\n",
    "        print(f\"{Name}, you are obese.\")\n",
    "    elif BMI <= 39.9:\n",
    "        print(f\"{Name}, you are severely obese.\")\n",
    "    else:\n",
    "        print(f\"{Name}, you are morbidly obese.\")\n",
    "else:\n",
    "    print(\"Enter valid inputs.\")\n",
    "        "
   ]
  },
  {
   "cell_type": "code",
   "execution_count": null,
   "id": "bf956e02",
   "metadata": {},
   "outputs": [],
   "source": []
  },
  {
   "cell_type": "code",
   "execution_count": null,
   "id": "f6ea1621",
   "metadata": {},
   "outputs": [],
   "source": []
  },
  {
   "cell_type": "code",
   "execution_count": null,
   "id": "ec665ebc",
   "metadata": {},
   "outputs": [],
   "source": []
  },
  {
   "cell_type": "code",
   "execution_count": null,
   "id": "d6c7b7a2",
   "metadata": {},
   "outputs": [],
   "source": []
  },
  {
   "cell_type": "code",
   "execution_count": null,
   "id": "793c64b9",
   "metadata": {},
   "outputs": [],
   "source": []
  },
  {
   "cell_type": "code",
   "execution_count": null,
   "id": "a3f96af6",
   "metadata": {},
   "outputs": [],
   "source": [
    "#BMI = (weight in pounds x 703) / (height in inches x height in inches)"
   ]
  }
 ],
 "metadata": {
  "kernelspec": {
   "display_name": "Python 3 (ipykernel)",
   "language": "python",
   "name": "python3"
  },
  "language_info": {
   "codemirror_mode": {
    "name": "ipython",
    "version": 3
   },
   "file_extension": ".py",
   "mimetype": "text/x-python",
   "name": "python",
   "nbconvert_exporter": "python",
   "pygments_lexer": "ipython3",
   "version": "3.11.5"
  }
 },
 "nbformat": 4,
 "nbformat_minor": 5
}
