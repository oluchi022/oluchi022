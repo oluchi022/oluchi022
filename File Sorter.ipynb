{
 "cells": [
  {
   "cell_type": "markdown",
   "id": "244fa5a9",
   "metadata": {},
   "source": [
    "# Automatic File Sorter in File Explorer"
   ]
  },
  {
   "cell_type": "code",
   "execution_count": 24,
   "id": "52dcb09d",
   "metadata": {},
   "outputs": [],
   "source": [
    "import os, shutil"
   ]
  },
  {
   "cell_type": "code",
   "execution_count": 25,
   "id": "2c312acf",
   "metadata": {},
   "outputs": [],
   "source": [
    "path = r\"C:/Users/NWANGI ONYEMAECHI/Downloads/New folder (2)/\""
   ]
  },
  {
   "cell_type": "code",
   "execution_count": 30,
   "id": "82263b53",
   "metadata": {},
   "outputs": [],
   "source": [
    "file_names = os.listdir(path)"
   ]
  },
  {
   "cell_type": "code",
   "execution_count": 27,
   "id": "d4c48a12",
   "metadata": {},
   "outputs": [],
   "source": [
    "folder_names = ['films', 'arts', 'musics', 'text files', 'slides']\n",
    "\n",
    "for name in range(5):\n",
    "    if not os.path.exists(path + folder_names[name]):\n",
    "        print(path + folder_names[name])\n",
    "        os.makedirs(path + folder_names[name])"
   ]
  },
  {
   "cell_type": "code",
   "execution_count": 28,
   "id": "2226a431",
   "metadata": {},
   "outputs": [],
   "source": [
    "for file in file_names:\n",
    "    if \".mkv\" in file and not os.path.exists(path + \"films/\" + file):\n",
    "        shutil.move(path + file, path + \"films/\" + file)\n",
    "    elif \".jpeg\" in file and not os.path.exists(path + \"arts/\" + file):\n",
    "        shutil.move(path + file, path + \"arts/\" + file)\n",
    "    elif \".mp4\" in file and not os.path.exists(path + \"musics/\" + file):\n",
    "        shutil.move(path + file, path + \"musics/\" + file)\n",
    "    elif \".rtf\" in file and not os.path.exists(path + \"text files/\" + file):\n",
    "        shutil.move(path + file, path + \"text files/\" + file)\n",
    "    elif \".pptx\" in file and not os.path.exists(path + \"slides/\" + file):\n",
    "        shutil.move(path + file, path + \"slides/\" + file)"
   ]
  },
  {
   "cell_type": "code",
   "execution_count": null,
   "id": "1b24b0fc",
   "metadata": {},
   "outputs": [],
   "source": []
  }
 ],
 "metadata": {
  "kernelspec": {
   "display_name": "Python 3 (ipykernel)",
   "language": "python",
   "name": "python3"
  },
  "language_info": {
   "codemirror_mode": {
    "name": "ipython",
    "version": 3
   },
   "file_extension": ".py",
   "mimetype": "text/x-python",
   "name": "python",
   "nbconvert_exporter": "python",
   "pygments_lexer": "ipython3",
   "version": "3.11.5"
  }
 },
 "nbformat": 4,
 "nbformat_minor": 5
}
